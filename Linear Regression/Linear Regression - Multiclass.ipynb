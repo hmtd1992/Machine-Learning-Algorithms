{
 "cells": [
  {
   "cell_type": "code",
   "execution_count": 2,
   "metadata": {},
   "outputs": [],
   "source": [
    "import numpy as np\n",
    "import pandas as pd"
   ]
  },
  {
   "cell_type": "code",
   "execution_count": 9,
   "metadata": {},
   "outputs": [],
   "source": [
    "# Read the dataset:\n",
    "dataset=pd.read_csv('Sample_Data.csv')\n",
    "\n",
    "x1=dataset['x1'].tolist()\n",
    "x2=dataset['x2'].tolist()\n",
    "x3=dataset['x3'].tolist()\n",
    "y=dataset['y'].tolist()"
   ]
  },
  {
   "cell_type": "code",
   "execution_count": 10,
   "metadata": {},
   "outputs": [],
   "source": [
    "   x0 = [1,1,1,1,1,1,1,1,1,1,1,1,1,1,1,1,1,1,1,1,1]\n",
    "   x1 = [73,93,89,96,73,53,69,47,87,79,69,70,93,79,70,93,78,81,88,78,82]\n",
    "   x2 = [80,88,91,98,66,46,74,56,79,70,70,65,95,80,73,89,75,90,92,83,86]\n",
    "   x3 = [75,93,90,100,70,55,77,60,90,88,73,74,91,73,78,96,68,93,86,77,90]\n",
    "   y  = [152,185,180,196,142,101,149,115,175,164,141,141,184,152,148,192,147,183,177,159,177]"
   ]
  },
  {
   "cell_type": "code",
   "execution_count": 3,
   "metadata": {},
   "outputs": [
    {
     "name": "stdout",
     "output_type": "stream",
     "text": [
      "Cost =  [13094.85714286]\n"
     ]
    }
   ],
   "source": [
    "# Parameters\n",
    "no_of_samples = m = len(x1)\n",
    "no_of_features = 3\n",
    "no_of_weights = no_of_features + 1\n",
    "learning_rate = 0.0001\n",
    "\n",
    "input_vector = np.array([x0,x1,x2,x3])\n",
    "actual_output_vector = np.array([y])\n",
    "cost_vector=[]\n",
    "sample_weight_vector=[]\n",
    "#weight_vector = np.full((1,no_of_weights),1)\n",
    "weight_vector = np.array([0,0,0,0]).reshape(1,4)\n",
    "prediction_vector = weight_vector.dot(input_vector)\n",
    "error_vector = np.subtract(prediction_vector, actual_output_vector)\n",
    "\n",
    "sum_squared_error = 0\n",
    "for error_value in error_vector.T:\n",
    "    sum_squared_error = sum_squared_error + (error_value*error_value)\n",
    "cost = (1/m) * (1/2) * (sum_squared_error)\n",
    "print(\"Cost = \",cost)\n",
    "previous_cost=cost\n",
    "\n",
    "gradient_matrix = error_vector.dot(input_vector.T)\n",
    "multiplication_factor = (learning_rate/m)\n",
    "weight_vector = np.subtract(weight_vector, multiplication_factor*gradient_matrix)"
   ]
  },
  {
   "cell_type": "code",
   "execution_count": 4,
   "metadata": {},
   "outputs": [
    {
     "name": "stdout",
     "output_type": "stream",
     "text": [
      "Training in progress\n",
      "Training Done\n"
     ]
    }
   ],
   "source": [
    "print(\"Training in progress\")\n",
    "while True:\n",
    "    prediction_vector = weight_vector.dot(input_vector)\n",
    "    error_vector = np.subtract(prediction_vector, actual_output_vector)\n",
    "\n",
    "    sum_squared_error = 0\n",
    "    for error_value in error_vector.T:\n",
    "        sum_squared_error = sum_squared_error + (error_value*error_value)\n",
    "    cost = (1/m) * (1/2) * (sum_squared_error)\n",
    "    #print(\"cost = \",cost)\n",
    "    \n",
    "    cost_vector.append(cost)\n",
    "    sample_weight_vector.append(weight_vector[0][2])\n",
    "    \n",
    "    if cost>previous_cost:\n",
    "        break\n",
    "\n",
    "    gradient_matrix = error_vector.dot(input_vector.T)\n",
    "    multiplication_factor = (learning_rate/m)\n",
    "    weight_vector = np.subtract(weight_vector, multiplication_factor*gradient_matrix)\n",
    "    previous_cost=cost\n",
    "    \n",
    "print(\"Training Done\")"
   ]
  },
  {
   "cell_type": "code",
   "execution_count": 5,
   "metadata": {},
   "outputs": [
    {
     "data": {
      "text/plain": [
       "<Figure size 640x480 with 1 Axes>"
      ]
     },
     "metadata": {},
     "output_type": "display_data"
    }
   ],
   "source": [
    "# Check the loss function\n",
    "import matplotlib.pyplot as plt\n",
    "plt.plot(sample_weight_vector,cost_vector,'ro')\n",
    "plt.xlabel(\"weight\")\n",
    "plt.ylabel(\"Cost\")\n",
    "plt.show()"
   ]
  },
  {
   "cell_type": "code",
   "execution_count": 6,
   "metadata": {},
   "outputs": [
    {
     "data": {
      "text/plain": [
       "array([1.92534648])"
      ]
     },
     "execution_count": 6,
     "metadata": {},
     "output_type": "execute_result"
    }
   ],
   "source": [
    "previous_cost"
   ]
  },
  {
   "cell_type": "code",
   "execution_count": 7,
   "metadata": {},
   "outputs": [
    {
     "data": {
      "text/plain": [
       "array([[-3.11576953,  0.42181307,  0.53020413,  1.09660699]])"
      ]
     },
     "execution_count": 7,
     "metadata": {},
     "output_type": "execute_result"
    }
   ],
   "source": [
    "weight_vector"
   ]
  },
  {
   "cell_type": "code",
   "execution_count": 8,
   "metadata": {},
   "outputs": [
    {
     "name": "stdout",
     "output_type": "stream",
     "text": [
      "174.23491525999998\n",
      "190.86493332999999\n"
     ]
    }
   ],
   "source": [
    "# Predict:  86\t82\t89\t175\n",
    "print(-3.11576953+(86*0.42181307)+(82*0.53020413)+(89*1.09660699))\n",
    "\n",
    "# Predict: 96\t93\t95\t192\n",
    "print(-3.11576953+(96*0.42181307)+(93*0.53020413)+(95*1.09660699))"
   ]
  },
  {
   "cell_type": "code",
   "execution_count": 30,
   "metadata": {},
   "outputs": [
    {
     "name": "stdout",
     "output_type": "stream",
     "text": [
      "Predicted outputs are  [152.33843923, 184.75525949000001, 181.36879863000001, 198.99898893, 139.43254646, 103.94309761, 149.66317615, 112.19729543999999, 174.16272293, 163.82316722, 143.15593167, 142.02333108, 186.27347442, 152.67610366999997, 150.65139208, 188.57528459, 144.120235, 180.75391091, 177.09076173, 158.23133094999997, 175.76508649]\n",
      "Actual outputs are  [152, 185, 180, 196, 142, 101, 149, 115, 175, 164, 141, 141, 184, 152, 148, 192, 147, 183, 177, 159, 177]\n"
     ]
    }
   ],
   "source": [
    "# Generate all predicted values\n",
    "\n",
    "import itertools\n",
    "predicted_outputs=[]\n",
    "\n",
    "def predict_output(x1,x2,x3):\n",
    "    return (-3.11576953+(x1*0.42181307)+(x2*0.53020413)+(x3*1.09660699))\n",
    "    \n",
    "\n",
    "for x1_input,x2_input,x3_input in itertools.zip_longest(x1,x2,x3):\n",
    "    predicted_output=predict_output(x1_input,x2_input,x3_input)\n",
    "    predicted_outputs.append(predicted_output)\n",
    "\n",
    "print(\"Predicted outputs are \",predicted_outputs)\n",
    "print(\"Actual outputs are \",y)\n"
   ]
  },
  {
   "cell_type": "code",
   "execution_count": 21,
   "metadata": {},
   "outputs": [
    {
     "name": "stdout",
     "output_type": "stream",
     "text": [
      "The Model is 98.91594393129824% accurate\n"
     ]
    }
   ],
   "source": [
    "# Calculate Accuracy:\n",
    "\n",
    "from statistics import mean\n",
    "percentage_errors = []\n",
    "\n",
    "for predicted_value, actual_value in itertools.zip_longest(predicted_outputs,y):\n",
    "    error=(np.abs(predicted_value-actual_value)/actual_value)*100\n",
    "    percentage_errors.append(error)\n",
    "    \n",
    "average_percentage_error = mean(percentage_errors)\n",
    "accuracy = 100-average_percentage_error\n",
    "\n",
    "print(\"The Model is {}% accurate\".format(accuracy))"
   ]
  },
  {
   "cell_type": "code",
   "execution_count": 58,
   "metadata": {},
   "outputs": [
    {
     "data": {
      "text/plain": [
       "Text(0.5, 0, 'Output')"
      ]
     },
     "execution_count": 58,
     "metadata": {},
     "output_type": "execute_result"
    },
    {
     "data": {
      "image/png": "[encoded data removed]",
      "text/plain": [
       "<Figure size 432x288 with 1 Axes>"
      ]
     },
     "metadata": {
      "needs_background": "light"
     },
     "output_type": "display_data"
    }
   ],
   "source": [
    "from matplotlib import pyplot\n",
    "from mpl_toolkits.mplot3d import Axes3D\n",
    "fig = pyplot.figure()\n",
    "ax = Axes3D(fig)\n",
    "\n",
    "ax.scatter(x1,x2,x3,y,marker='v',c='r',alpha=1)\n",
    "ax.scatter(x1,x2,x3,predicted_outputs,marker='*',c='g',alpha=1)\n",
    "\n",
    "ax.set_xlabel('X1')\n",
    "ax.set_ylabel('X2')\n",
    "ax.set_zlabel('Output')\n"
   ]
  }
 ],
 "metadata": {
  "kernelspec": {
   "display_name": "Python 3",
   "language": "python",
   "name": "python3"
  },
  "language_info": {
   "codemirror_mode": {
    "name": "ipython",
    "version": 3
   },
   "file_extension": ".py",
   "mimetype": "text/x-python",
   "name": "python",
   "nbconvert_exporter": "python",
   "pygments_lexer": "ipython3",
   "version": "3.6.8"
  }
 },
 "nbformat": 4,
 "nbformat_minor": 2
}
